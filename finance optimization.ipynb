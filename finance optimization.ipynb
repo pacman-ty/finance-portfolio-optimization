{
 "cells": [
  {
   "cell_type": "code",
   "execution_count": 1,
   "id": "959663cc-03be-4efb-a19e-6b584b8c0ed5",
   "metadata": {},
   "outputs": [
    {
     "name": "stderr",
     "output_type": "stream",
     "text": [
      "<frozen importlib._bootstrap>:219: RuntimeWarning: scipy._lib.messagestream.MessageStream size changed, may indicate binary incompatibility. Expected 56 from C header, got 64 from PyObject\n"
     ]
    }
   ],
   "source": [
    "#Imports!\n",
    "\n",
    "from qiskit.algorithms import VQE, QAOA, NumPyMinimumEigensolver\n",
    "from qiskit.algorithms.optimizers import COBYLA, L_BFGS_B, SLSQP, SPSA\n",
    "from qiskit_optimization.algorithms import MinimumEigenOptimizer\n",
    "from qiskit.circuit.library import TwoLocal, EfficientSU2\n",
    "from qiskit import Aer\n",
    "# from qiskit.utils import \n",
    "# from qiskit_optimization.converters import QuadraticProgramToQubo\n",
    "from qiskit_finance.applications.optimization import PortfolioOptimization\n",
    "# from qiskit_finance import QiskitFinanceError\n",
    "from qiskit_finance.data_providers import WikipediaDataProvider\n",
    "from qiskit.utils import algorithm_globals, QuantumInstance\n",
    "import numpy as np\n",
    "import datetime\n",
    "import matplotlib.pyplot as plt\n",
    "import seaborn as sns\n",
    "sns.set_style(\"whitegrid\")\n",
    "%matplotlib widget"
   ]
  },
  {
   "cell_type": "code",
   "execution_count": 2,
   "id": "0012cf0c-f19a-41eb-866e-daf524009930",
   "metadata": {},
   "outputs": [],
   "source": [
    "# This function imports stock prices using Quandl and Wikipedia. You can edit the start and end datetimes to consider stock prices over a different time period!\n",
    "# Data is only availble until April 2018, so use time periods earlier than that.\n",
    "def import_stock_prices(stocks):\n",
    "    quandl_token = \"HRXZqqxBka_9huabBgoW\" \n",
    "    wiki = WikipediaDataProvider(\n",
    "                        token = quandl_token,\n",
    "                        tickers = stocks,\n",
    "                        start = datetime.datetime(2016,1,1),\n",
    "                        end = datetime.datetime(2017,1,1))\n",
    "    wiki.run()\n",
    "    return wiki"
   ]
  },
  {
   "cell_type": "code",
   "execution_count": 3,
   "id": "3cf968f1-988f-4753-93aa-753f3838eb81",
   "metadata": {},
   "outputs": [],
   "source": [
    "stocks = [ \"AAPL\", \"NFLX\", \"AMZN\", \"IBM\", \"GOOG\"] # NASDAQ tickers. If you want to consider more stocks, look up their tickers and add them to the list!\n",
    "# Other stock tickers you can add include F, NVDA, GME, etc. \n",
    "stock_prices = import_stock_prices(stocks)  # Using one of the helper functions defined above to import stock prices"
   ]
  },
  {
   "cell_type": "code",
   "execution_count": 4,
   "id": "6a217f9f-4756-4e9e-a438-ca45456d3b92",
   "metadata": {},
   "outputs": [],
   "source": [
    "# This function uses matplotlib to plot normalized stock prices\n",
    "def plot_stock_prices(stock_prices, form=\"norm\"):\n",
    "    fig, ax = plt.subplots(figsize=(8,6))\n",
    "    if stock_prices._data:\n",
    "        for (cnt, s) in enumerate(stocks):\n",
    "            start = stock_prices._data[cnt][0]\n",
    "            eq = stock_prices._data[cnt] / start\n",
    "            min_ = np.min(stock_prices._data[cnt])\n",
    "            max_ = np.max(stock_prices._data[cnt])\n",
    "            norm = (stock_prices._data[cnt] - min_)/(max_- min_)\n",
    "            if form == \"norm\": ax.plot(norm, label=s)\n",
    "            elif form == \"eq\": ax.plot(eq, label=s)\n",
    "            elif form == \"raw\": ax.plot(stock_prices._data[cnt], label=s)\n",
    "            else: raise ValueError(\"Invalid 'form' value\")\n",
    "        ax.legend()\n",
    "        key = {\"norm\":\"Normalised\", \"raw\":\"Raw\", \"eq\":\"Equalized\"}\n",
    "        ax.set_title(f\"{key[form]} Yearly Evolution of Stock Prices\")\n",
    "        plt.xticks(rotation=90)\n",
    "        plt.tight_layout()\n",
    "        plt.show()\n",
    "    else:\n",
    "        print('No wiki data loaded.')"
   ]
  },
  {
   "cell_type": "code",
   "execution_count": 5,
   "id": "3b1c11d6-a50f-496f-b73d-b9e393149abc",
   "metadata": {},
   "outputs": [
    {
     "data": {
      "application/vnd.jupyter.widget-view+json": {
       "model_id": "3b21def26b26493484fb8e980138dadc",
       "version_major": 2,
       "version_minor": 0
      },
      "text/plain": [
       "Canvas(toolbar=Toolbar(toolitems=[('Home', 'Reset original view', 'home', 'home'), ('Back', 'Back to previous …"
      ]
     },
     "metadata": {},
     "output_type": "display_data"
    },
    {
     "name": "stdout",
     "output_type": "stream",
     "text": [
      "Traceback \u001b[1;36m(most recent call last)\u001b[0m:\n",
      "  Input \u001b[0;32mIn [5]\u001b[0m in \u001b[0;35m<cell line: 1>\u001b[0m\n",
      "    plot_stock_prices(stock_prices, form=\"raw\")\n",
      "  Input \u001b[0;32mIn [4]\u001b[0m in \u001b[0;35mplot_stock_prices\u001b[0m\n",
      "    plt.tight_layout()\n",
      "  File \u001b[0;32m/opt/conda/lib/python3.8/site-packages/matplotlib/pyplot.py:2302\u001b[0m in \u001b[0;35mtight_layout\u001b[0m\n",
      "    return gcf().tight_layout(pad=pad, h_pad=h_pad, w_pad=w_pad, rect=rect)\n",
      "  File \u001b[0;32m/opt/conda/lib/python3.8/site-packages/matplotlib/figure.py:3195\u001b[0m in \u001b[0;35mtight_layout\u001b[0m\n",
      "    renderer = _get_renderer(self)\n",
      "  File \u001b[0;32m/opt/conda/lib/python3.8/site-packages/matplotlib/backend_bases.py:1544\u001b[0m in \u001b[0;35m_get_renderer\u001b[0m\n",
      "    print_method(io.BytesIO())\n",
      "  File \u001b[0;32m/opt/conda/lib/python3.8/site-packages/matplotlib/backend_bases.py:1648\u001b[0m in \u001b[0;35mwrapper\u001b[0m\n",
      "    return func(*args, **kwargs)\n",
      "  File \u001b[0;32m/opt/conda/lib/python3.8/site-packages/matplotlib/_api/deprecation.py:412\u001b[0m in \u001b[0;35mwrapper\u001b[0m\n",
      "    return func(*inner_args, **inner_kwargs)\n",
      "  File \u001b[0;32m/opt/conda/lib/python3.8/site-packages/matplotlib/backends/backend_agg.py:540\u001b[0m in \u001b[0;35mprint_png\u001b[0m\n",
      "    FigureCanvasAgg.draw(self)\n",
      "  File \u001b[0;32m/opt/conda/lib/python3.8/site-packages/matplotlib/backends/backend_agg.py:433\u001b[0m in \u001b[0;35mdraw\u001b[0m\n",
      "    with RendererAgg.lock, \\\n",
      "  File \u001b[0;32m/opt/conda/lib/python3.8/contextlib.py:113\u001b[0m in \u001b[0;35m__enter__\u001b[0m\n",
      "    return next(self.gen)\n",
      "  File \u001b[0;32m/opt/conda/lib/python3.8/site-packages/matplotlib/backend_bases.py:3033\u001b[0m in \u001b[0;35m_wait_cursor_for_draw_cm\u001b[0m\n",
      "    self.canvas.set_cursor(self._lastCursor)\n",
      "  File \u001b[0;32m/opt/conda/lib/python3.8/site-packages/matplotlib/backends/backend_webagg_core.py:210\u001b[0m in \u001b[0;35mset_cursor\u001b[0m\n",
      "    self.send_event('cursor', cursor=cursor)\n",
      "  File \u001b[0;32m/opt/conda/lib/python3.8/site-packages/matplotlib/backends/backend_webagg_core.py:392\u001b[0m in \u001b[0;35msend_event\u001b[0m\n",
      "    self.manager._send_event(event_type, **kwargs)\n",
      "  File \u001b[0;32m/opt/conda/lib/python3.8/site-packages/matplotlib/backends/backend_webagg_core.py:541\u001b[0m in \u001b[0;35m_send_event\u001b[0m\n",
      "    s.send_json(payload)\n",
      "\u001b[1;36m  File \u001b[1;32m/opt/conda/lib/python3.8/site-packages/ipympl/backend_nbagg.py:217\u001b[1;36m in \u001b[1;35msend_json\u001b[1;36m\u001b[0m\n",
      "\u001b[1;33m    self._cursor = cursors_str[content['cursor']]\u001b[0m\n",
      "\u001b[1;31mKeyError\u001b[0m\u001b[1;31m:\u001b[0m 'default'\n",
      "\n",
      "Use %tb to get the full traceback.\n"
     ]
    },
    {
     "data": {
      "text/html": [
       "\n",
       "<style>\n",
       ".button {\n",
       "  border: none;\n",
       "  color: white;\n",
       "  padding: 4px 8px;\n",
       "  text-align: center;\n",
       "  text-decoration: none;\n",
       "  display: inline-block;\n",
       "  font-size: 12px;\n",
       "  margin: 4px 2px;\n",
       "  transition-duration: 0.2s;\n",
       "  cursor: pointer;\n",
       "}\n",
       ".iqx-button {\n",
       "  background-color: #0f62fe; \n",
       "  color: white; \n",
       "}\n",
       ".iqx-button:hover {\n",
       "  background-color: #0043ce;\n",
       "  color: white;\n",
       "}\n",
       "</style>\n",
       "<a href=\"https://stackoverflow.com/search?q=KeyError: default\" target='_blank'><button class='button iqx-button'>Search for solution online</button></a>\n"
      ],
      "text/plain": [
       "<IPython.core.display.HTML object>"
      ]
     },
     "metadata": {},
     "output_type": "display_data"
    }
   ],
   "source": [
    "plot_stock_prices(stock_prices, form=\"raw\")"
   ]
  },
  {
   "cell_type": "code",
   "execution_count": 6,
   "id": "7e7792f3-a541-4f16-9ca7-42e67a0be10e",
   "metadata": {},
   "outputs": [
    {
     "data": {
      "application/vnd.jupyter.widget-view+json": {
       "model_id": "6ceabb22d93641a0b719e02365df8501",
       "version_major": 2,
       "version_minor": 0
      },
      "text/plain": [
       "Canvas(toolbar=Toolbar(toolitems=[('Home', 'Reset original view', 'home', 'home'), ('Back', 'Back to previous …"
      ]
     },
     "metadata": {},
     "output_type": "display_data"
    },
    {
     "name": "stdout",
     "output_type": "stream",
     "text": [
      "Traceback \u001b[1;36m(most recent call last)\u001b[0m:\n",
      "  Input \u001b[0;32mIn [6]\u001b[0m in \u001b[0;35m<cell line: 1>\u001b[0m\n",
      "    plot_stock_prices(stock_prices, form=\"eq\")\n",
      "  Input \u001b[0;32mIn [4]\u001b[0m in \u001b[0;35mplot_stock_prices\u001b[0m\n",
      "    plt.tight_layout()\n",
      "  File \u001b[0;32m/opt/conda/lib/python3.8/site-packages/matplotlib/pyplot.py:2302\u001b[0m in \u001b[0;35mtight_layout\u001b[0m\n",
      "    return gcf().tight_layout(pad=pad, h_pad=h_pad, w_pad=w_pad, rect=rect)\n",
      "  File \u001b[0;32m/opt/conda/lib/python3.8/site-packages/matplotlib/figure.py:3195\u001b[0m in \u001b[0;35mtight_layout\u001b[0m\n",
      "    renderer = _get_renderer(self)\n",
      "  File \u001b[0;32m/opt/conda/lib/python3.8/site-packages/matplotlib/backend_bases.py:1544\u001b[0m in \u001b[0;35m_get_renderer\u001b[0m\n",
      "    print_method(io.BytesIO())\n",
      "  File \u001b[0;32m/opt/conda/lib/python3.8/site-packages/matplotlib/backend_bases.py:1648\u001b[0m in \u001b[0;35mwrapper\u001b[0m\n",
      "    return func(*args, **kwargs)\n",
      "  File \u001b[0;32m/opt/conda/lib/python3.8/site-packages/matplotlib/_api/deprecation.py:412\u001b[0m in \u001b[0;35mwrapper\u001b[0m\n",
      "    return func(*inner_args, **inner_kwargs)\n",
      "  File \u001b[0;32m/opt/conda/lib/python3.8/site-packages/matplotlib/backends/backend_agg.py:540\u001b[0m in \u001b[0;35mprint_png\u001b[0m\n",
      "    FigureCanvasAgg.draw(self)\n",
      "  File \u001b[0;32m/opt/conda/lib/python3.8/site-packages/matplotlib/backends/backend_agg.py:433\u001b[0m in \u001b[0;35mdraw\u001b[0m\n",
      "    with RendererAgg.lock, \\\n",
      "  File \u001b[0;32m/opt/conda/lib/python3.8/contextlib.py:113\u001b[0m in \u001b[0;35m__enter__\u001b[0m\n",
      "    return next(self.gen)\n",
      "  File \u001b[0;32m/opt/conda/lib/python3.8/site-packages/matplotlib/backend_bases.py:3033\u001b[0m in \u001b[0;35m_wait_cursor_for_draw_cm\u001b[0m\n",
      "    self.canvas.set_cursor(self._lastCursor)\n",
      "  File \u001b[0;32m/opt/conda/lib/python3.8/site-packages/matplotlib/backends/backend_webagg_core.py:210\u001b[0m in \u001b[0;35mset_cursor\u001b[0m\n",
      "    self.send_event('cursor', cursor=cursor)\n",
      "  File \u001b[0;32m/opt/conda/lib/python3.8/site-packages/matplotlib/backends/backend_webagg_core.py:392\u001b[0m in \u001b[0;35msend_event\u001b[0m\n",
      "    self.manager._send_event(event_type, **kwargs)\n",
      "  File \u001b[0;32m/opt/conda/lib/python3.8/site-packages/matplotlib/backends/backend_webagg_core.py:541\u001b[0m in \u001b[0;35m_send_event\u001b[0m\n",
      "    s.send_json(payload)\n",
      "\u001b[1;36m  File \u001b[1;32m/opt/conda/lib/python3.8/site-packages/ipympl/backend_nbagg.py:217\u001b[1;36m in \u001b[1;35msend_json\u001b[1;36m\u001b[0m\n",
      "\u001b[1;33m    self._cursor = cursors_str[content['cursor']]\u001b[0m\n",
      "\u001b[1;31mKeyError\u001b[0m\u001b[1;31m:\u001b[0m 'default'\n",
      "\n",
      "Use %tb to get the full traceback.\n"
     ]
    },
    {
     "data": {
      "text/html": [
       "\n",
       "<style>\n",
       ".button {\n",
       "  border: none;\n",
       "  color: white;\n",
       "  padding: 4px 8px;\n",
       "  text-align: center;\n",
       "  text-decoration: none;\n",
       "  display: inline-block;\n",
       "  font-size: 12px;\n",
       "  margin: 4px 2px;\n",
       "  transition-duration: 0.2s;\n",
       "  cursor: pointer;\n",
       "}\n",
       ".iqx-button {\n",
       "  background-color: #0f62fe; \n",
       "  color: white; \n",
       "}\n",
       ".iqx-button:hover {\n",
       "  background-color: #0043ce;\n",
       "  color: white;\n",
       "}\n",
       "</style>\n",
       "<a href=\"https://stackoverflow.com/search?q=KeyError: default\" target='_blank'><button class='button iqx-button'>Search for solution online</button></a>\n"
      ],
      "text/plain": [
       "<IPython.core.display.HTML object>"
      ]
     },
     "metadata": {},
     "output_type": "display_data"
    }
   ],
   "source": [
    "plot_stock_prices(stock_prices, form=\"eq\")"
   ]
  },
  {
   "cell_type": "code",
   "execution_count": 7,
   "id": "62ca6d09-da7b-4077-9150-12c4073dc942",
   "metadata": {},
   "outputs": [],
   "source": [
    "#num of assets (length of our NASDAQ issues array)\n",
    "num_assets = len(stocks)\n",
    "\n",
    "# set budget - how many stocks do you want to buy?\n",
    "budget = 2\n",
    "\n",
    "# Defining the portfolio optimization problem\n",
    "portfolio = PortfolioOptimization(expected_returns=stock_prices.get_period_return_mean_vector(),\n",
    "                                  covariances=stock_prices.get_period_return_covariance_matrix(),\n",
    "                                  risk_factor=0.2, budget=budget)\n",
    "\n",
    "# This creates a quadratic program, which is the form in which the problem can be directly\n",
    "# passed to Qiskit's solvers\n",
    "qp = portfolio.to_quadratic_program()"
   ]
  },
  {
   "cell_type": "code",
   "execution_count": 8,
   "id": "250c71ba-4369-4d4d-9c5e-a1c309f402be",
   "metadata": {},
   "outputs": [],
   "source": [
    "# This Function displays teh result of a VQE or Classical EigenSolver\n",
    "def display_values(vqe_result, stocks):\n",
    "    lines = []\n",
    "    for result in vqe_result.samples[:5]:\n",
    "            qubits, value, probability = result.x, result.fval, result.probability\n",
    "            q_str = str(qubits.astype(int)).ljust(16)\n",
    "            arr = np.array(qubits)\n",
    "            opt = [str(stock[0])+' ' for stock in np.take(stocks, np.argwhere(arr))]\n",
    "            opt_str = \"\".join(opt).ljust(16)\n",
    "            lines.append((opt_str, f'{q_str} {opt_str} {round(value,4)} \\t {round(probability,4)}'))\n",
    "\n",
    "    print(f' Optimal Stock Combination: {lines[0][0]}')\n",
    "    print('\\n------------------------ Top Results ------------------------')\n",
    "    print('qubits \\t\\t selection \\t value \\t\\t probability')\n",
    "    print('--------------------------------------------------------------')\n",
    "    [print(p[1]) for p in lines]\n",
    "    print('--------------------------------------------------------------')\n",
    "\n",
    "# This function draws the value of the portfolio against other the stocks\n",
    "def plot_portfolio_against_market(result, stock_prices):\n",
    "    portfolio_sel = np.argwhere(result.samples[0].x).reshape(-1)\n",
    "    fig, ax = plt.subplots(figsize=(8,6))\n",
    "    if stock_prices._data:\n",
    "        portfolio_sum = []\n",
    "        for (cnt, s) in enumerate(stocks):\n",
    "            start = stock_prices._data[cnt][0]\n",
    "            eq = stock_prices._data[cnt] / start\n",
    "            if cnt in portfolio_sel:\n",
    "                portfolio_sum.append(eq)\n",
    "                ax.plot(eq, label=f\"{s} (Selected)\", linestyle=\"--\", alpha=0.5)\n",
    "            else:\n",
    "                ax.plot(eq, label=s, alpha=0.15)\n",
    "        sab = sum(portfolio_sum)\n",
    "        # This has no purpose besides shifting the color because I don't like brown\n",
    "        next(ax._get_lines.prop_cycler)   \n",
    "        ax.plot(sab/2, label=\"Portfolio Value\")\n",
    "        ax.set_title(\"Portfolio Performance\") \n",
    "        ax.legend()\n",
    "        plt.xticks(rotation=90)\n",
    "        plt.tight_layout()\n",
    "        plt.show()\n",
    "\n",
    "    else:\n",
    "        print('No wiki data loaded.')"
   ]
  },
  {
   "cell_type": "code",
   "execution_count": 9,
   "id": "81fe43f7-8077-4b14-a09d-40d3e12b6cd1",
   "metadata": {},
   "outputs": [],
   "source": [
    "exact_mes = NumPyMinimumEigensolver() # Specifying the classical solver we want to use - NumPyMinimumEigensolver\n",
    "exact_eigensolver = MinimumEigenOptimizer(exact_mes) \n",
    "result_classical = exact_eigensolver.solve(qp) # Solving the problem using the classical solver"
   ]
  },
  {
   "cell_type": "code",
   "execution_count": 10,
   "id": "ea651532-e416-494b-b0c1-0faa1f2e73ba",
   "metadata": {},
   "outputs": [
    {
     "name": "stdout",
     "output_type": "stream",
     "text": [
      " Optimal Stock Combination: AMZN IBM        \n",
      "\n",
      "------------------------ Top Results ------------------------\n",
      "qubits \t\t selection \t value \t\t probability\n",
      "--------------------------------------------------------------\n",
      "[0 0 1 1 0]      AMZN IBM         -0.0017 \t 1.0\n",
      "--------------------------------------------------------------\n"
     ]
    },
    {
     "data": {
      "application/vnd.jupyter.widget-view+json": {
       "model_id": "6a0a4fe174a140b782f40b544dc54050",
       "version_major": 2,
       "version_minor": 0
      },
      "text/plain": [
       "Canvas(toolbar=Toolbar(toolitems=[('Home', 'Reset original view', 'home', 'home'), ('Back', 'Back to previous …"
      ]
     },
     "metadata": {},
     "output_type": "display_data"
    },
    {
     "name": "stdout",
     "output_type": "stream",
     "text": [
      "Traceback \u001b[1;36m(most recent call last)\u001b[0m:\n",
      "  Input \u001b[0;32mIn [10]\u001b[0m in \u001b[0;35m<cell line: 2>\u001b[0m\n",
      "    plot_portfolio_against_market(result_classical, stock_prices)\n",
      "  Input \u001b[0;32mIn [8]\u001b[0m in \u001b[0;35mplot_portfolio_against_market\u001b[0m\n",
      "    plt.tight_layout()\n",
      "  File \u001b[0;32m/opt/conda/lib/python3.8/site-packages/matplotlib/pyplot.py:2302\u001b[0m in \u001b[0;35mtight_layout\u001b[0m\n",
      "    return gcf().tight_layout(pad=pad, h_pad=h_pad, w_pad=w_pad, rect=rect)\n",
      "  File \u001b[0;32m/opt/conda/lib/python3.8/site-packages/matplotlib/figure.py:3195\u001b[0m in \u001b[0;35mtight_layout\u001b[0m\n",
      "    renderer = _get_renderer(self)\n",
      "  File \u001b[0;32m/opt/conda/lib/python3.8/site-packages/matplotlib/backend_bases.py:1544\u001b[0m in \u001b[0;35m_get_renderer\u001b[0m\n",
      "    print_method(io.BytesIO())\n",
      "  File \u001b[0;32m/opt/conda/lib/python3.8/site-packages/matplotlib/backend_bases.py:1648\u001b[0m in \u001b[0;35mwrapper\u001b[0m\n",
      "    return func(*args, **kwargs)\n",
      "  File \u001b[0;32m/opt/conda/lib/python3.8/site-packages/matplotlib/_api/deprecation.py:412\u001b[0m in \u001b[0;35mwrapper\u001b[0m\n",
      "    return func(*inner_args, **inner_kwargs)\n",
      "  File \u001b[0;32m/opt/conda/lib/python3.8/site-packages/matplotlib/backends/backend_agg.py:540\u001b[0m in \u001b[0;35mprint_png\u001b[0m\n",
      "    FigureCanvasAgg.draw(self)\n",
      "  File \u001b[0;32m/opt/conda/lib/python3.8/site-packages/matplotlib/backends/backend_agg.py:433\u001b[0m in \u001b[0;35mdraw\u001b[0m\n",
      "    with RendererAgg.lock, \\\n",
      "  File \u001b[0;32m/opt/conda/lib/python3.8/contextlib.py:113\u001b[0m in \u001b[0;35m__enter__\u001b[0m\n",
      "    return next(self.gen)\n",
      "  File \u001b[0;32m/opt/conda/lib/python3.8/site-packages/matplotlib/backend_bases.py:3033\u001b[0m in \u001b[0;35m_wait_cursor_for_draw_cm\u001b[0m\n",
      "    self.canvas.set_cursor(self._lastCursor)\n",
      "  File \u001b[0;32m/opt/conda/lib/python3.8/site-packages/matplotlib/backends/backend_webagg_core.py:210\u001b[0m in \u001b[0;35mset_cursor\u001b[0m\n",
      "    self.send_event('cursor', cursor=cursor)\n",
      "  File \u001b[0;32m/opt/conda/lib/python3.8/site-packages/matplotlib/backends/backend_webagg_core.py:392\u001b[0m in \u001b[0;35msend_event\u001b[0m\n",
      "    self.manager._send_event(event_type, **kwargs)\n",
      "  File \u001b[0;32m/opt/conda/lib/python3.8/site-packages/matplotlib/backends/backend_webagg_core.py:541\u001b[0m in \u001b[0;35m_send_event\u001b[0m\n",
      "    s.send_json(payload)\n",
      "\u001b[1;36m  File \u001b[1;32m/opt/conda/lib/python3.8/site-packages/ipympl/backend_nbagg.py:217\u001b[1;36m in \u001b[1;35msend_json\u001b[1;36m\u001b[0m\n",
      "\u001b[1;33m    self._cursor = cursors_str[content['cursor']]\u001b[0m\n",
      "\u001b[1;31mKeyError\u001b[0m\u001b[1;31m:\u001b[0m 'default'\n",
      "\n",
      "Use %tb to get the full traceback.\n"
     ]
    },
    {
     "data": {
      "text/html": [
       "\n",
       "<style>\n",
       ".button {\n",
       "  border: none;\n",
       "  color: white;\n",
       "  padding: 4px 8px;\n",
       "  text-align: center;\n",
       "  text-decoration: none;\n",
       "  display: inline-block;\n",
       "  font-size: 12px;\n",
       "  margin: 4px 2px;\n",
       "  transition-duration: 0.2s;\n",
       "  cursor: pointer;\n",
       "}\n",
       ".iqx-button {\n",
       "  background-color: #0f62fe; \n",
       "  color: white; \n",
       "}\n",
       ".iqx-button:hover {\n",
       "  background-color: #0043ce;\n",
       "  color: white;\n",
       "}\n",
       "</style>\n",
       "<a href=\"https://stackoverflow.com/search?q=KeyError: default\" target='_blank'><button class='button iqx-button'>Search for solution online</button></a>\n"
      ],
      "text/plain": [
       "<IPython.core.display.HTML object>"
      ]
     },
     "metadata": {},
     "output_type": "display_data"
    }
   ],
   "source": [
    "display_values(result_classical, stocks)\n",
    "plot_portfolio_against_market(result_classical, stock_prices)"
   ]
  },
  {
   "cell_type": "code",
   "execution_count": null,
   "id": "73fd198f-ca52-41da-b472-51186d41a506",
   "metadata": {},
   "outputs": [],
   "source": []
  },
  {
   "cell_type": "code",
   "execution_count": null,
   "id": "6be77ee1-f4be-4bb6-b5e7-1c89b148a231",
   "metadata": {},
   "outputs": [],
   "source": []
  }
 ],
 "metadata": {
  "kernelspec": {
   "display_name": "Python 3 (ipykernel)",
   "language": "python",
   "name": "python3"
  },
  "language_info": {
   "codemirror_mode": {
    "name": "ipython",
    "version": 3
   },
   "file_extension": ".py",
   "mimetype": "text/x-python",
   "name": "python",
   "nbconvert_exporter": "python",
   "pygments_lexer": "ipython3",
   "version": "3.8.15"
  },
  "widgets": {
   "application/vnd.jupyter.widget-state+json": {
    "state": {
     "07126636a43b41338ba6de0e44e0ebba": {
      "model_module": "@jupyter-widgets/base",
      "model_module_version": "1.2.0",
      "model_name": "LayoutModel",
      "state": {}
     },
     "20b9653ac3904d06b0ed67f4a2af331a": {
      "model_module": "@jupyter-widgets/base",
      "model_module_version": "1.2.0",
      "model_name": "LayoutModel",
      "state": {}
     },
     "30092355e6ee4f4eb004fd96f0d3383f": {
      "model_module": "jupyter-matplotlib",
      "model_module_version": "^0.8.3",
      "model_name": "ToolbarModel",
      "state": {
       "layout": "IPY_MODEL_e81ea7e4e5fb4e6284092ddc1801ab91",
       "toolitems": [
        [
         "Home",
         "Reset original view",
         "home",
         "home"
        ],
        [
         "Back",
         "Back to previous view",
         "arrow-left",
         "back"
        ],
        [
         "Forward",
         "Forward to next view",
         "arrow-right",
         "forward"
        ],
        [
         "Pan",
         "Left button pans, Right button zooms\nx/y fixes axis, CTRL fixes aspect",
         "arrows",
         "pan"
        ],
        [
         "Zoom",
         "Zoom to rectangle\nx/y fixes axis",
         "square-o",
         "zoom"
        ],
        [
         "Download",
         "Download plot",
         "floppy-o",
         "save_figure"
        ]
       ]
      }
     },
     "3b21def26b26493484fb8e980138dadc": {
      "model_module": "jupyter-matplotlib",
      "model_module_version": "^0.8.3",
      "model_name": "MPLCanvasModel",
      "state": {
       "_figure_label": "Figure 1",
       "_height": 600,
       "_width": 800,
       "layout": "IPY_MODEL_644b6f1123cc41b5974933f909d98341",
       "toolbar": "IPY_MODEL_4ca6e888403f49c3bb10b7e2ac8f1d13",
       "toolbar_position": "left"
      }
     },
     "4ca6e888403f49c3bb10b7e2ac8f1d13": {
      "model_module": "jupyter-matplotlib",
      "model_module_version": "^0.8.3",
      "model_name": "ToolbarModel",
      "state": {
       "layout": "IPY_MODEL_e475e464791e4da1a43e610f21c207e9",
       "toolitems": [
        [
         "Home",
         "Reset original view",
         "home",
         "home"
        ],
        [
         "Back",
         "Back to previous view",
         "arrow-left",
         "back"
        ],
        [
         "Forward",
         "Forward to next view",
         "arrow-right",
         "forward"
        ],
        [
         "Pan",
         "Left button pans, Right button zooms\nx/y fixes axis, CTRL fixes aspect",
         "arrows",
         "pan"
        ],
        [
         "Zoom",
         "Zoom to rectangle\nx/y fixes axis",
         "square-o",
         "zoom"
        ],
        [
         "Download",
         "Download plot",
         "floppy-o",
         "save_figure"
        ]
       ]
      }
     },
     "644b6f1123cc41b5974933f909d98341": {
      "model_module": "@jupyter-widgets/base",
      "model_module_version": "1.2.0",
      "model_name": "LayoutModel",
      "state": {}
     },
     "6a0a4fe174a140b782f40b544dc54050": {
      "model_module": "jupyter-matplotlib",
      "model_module_version": "^0.8.3",
      "model_name": "MPLCanvasModel",
      "state": {
       "_figure_label": "Figure 3",
       "_height": 600,
       "_message": "x=2016-05 y=0.736",
       "_width": 800,
       "layout": "IPY_MODEL_07126636a43b41338ba6de0e44e0ebba",
       "toolbar": "IPY_MODEL_889f063f80504180ba863714a2b8064e",
       "toolbar_position": "left"
      }
     },
     "6ceabb22d93641a0b719e02365df8501": {
      "model_module": "jupyter-matplotlib",
      "model_module_version": "^0.8.3",
      "model_name": "MPLCanvasModel",
      "state": {
       "_figure_label": "Figure 2",
       "_height": 600,
       "_width": 800,
       "layout": "IPY_MODEL_20b9653ac3904d06b0ed67f4a2af331a",
       "toolbar": "IPY_MODEL_30092355e6ee4f4eb004fd96f0d3383f",
       "toolbar_position": "left"
      }
     },
     "889f063f80504180ba863714a2b8064e": {
      "model_module": "jupyter-matplotlib",
      "model_module_version": "^0.8.3",
      "model_name": "ToolbarModel",
      "state": {
       "layout": "IPY_MODEL_e62adb1c3db74cb38e64892d1e7f5bae",
       "toolitems": [
        [
         "Home",
         "Reset original view",
         "home",
         "home"
        ],
        [
         "Back",
         "Back to previous view",
         "arrow-left",
         "back"
        ],
        [
         "Forward",
         "Forward to next view",
         "arrow-right",
         "forward"
        ],
        [
         "Pan",
         "Left button pans, Right button zooms\nx/y fixes axis, CTRL fixes aspect",
         "arrows",
         "pan"
        ],
        [
         "Zoom",
         "Zoom to rectangle\nx/y fixes axis",
         "square-o",
         "zoom"
        ],
        [
         "Download",
         "Download plot",
         "floppy-o",
         "save_figure"
        ]
       ]
      }
     },
     "e475e464791e4da1a43e610f21c207e9": {
      "model_module": "@jupyter-widgets/base",
      "model_module_version": "1.2.0",
      "model_name": "LayoutModel",
      "state": {}
     },
     "e62adb1c3db74cb38e64892d1e7f5bae": {
      "model_module": "@jupyter-widgets/base",
      "model_module_version": "1.2.0",
      "model_name": "LayoutModel",
      "state": {}
     },
     "e81ea7e4e5fb4e6284092ddc1801ab91": {
      "model_module": "@jupyter-widgets/base",
      "model_module_version": "1.2.0",
      "model_name": "LayoutModel",
      "state": {}
     }
    },
    "version_major": 2,
    "version_minor": 0
   }
  }
 },
 "nbformat": 4,
 "nbformat_minor": 5
}
